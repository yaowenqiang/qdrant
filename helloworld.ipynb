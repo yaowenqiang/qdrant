{
 "cells": [
  {
   "cell_type": "code",
   "execution_count": 1,
   "id": "e97e1858-740b-4325-ae72-770736b10c31",
   "metadata": {
    "tags": []
   },
   "outputs": [],
   "source": [
    "from qdrant_client import QdrantClient\n",
    "from qdrant_client.http import models"
   ]
  },
  {
   "cell_type": "code",
   "execution_count": null,
   "id": "d92f3f0c-3646-46f6-af5f-7a30e529078f",
   "metadata": {
    "tags": []
   },
   "outputs": [],
   "source": [
    "%pip install qdrant-client"
   ]
  },
  {
   "cell_type": "code",
   "execution_count": 2,
   "id": "66e9c928-42ce-44c9-8917-f580072ef58a",
   "metadata": {
    "tags": []
   },
   "outputs": [],
   "source": [
    "client = QdrantClient('localhost', port=6333)"
   ]
  },
  {
   "cell_type": "code",
   "execution_count": 12,
   "id": "48338cc7-f702-4c10-851c-825c41088cdb",
   "metadata": {
    "tags": []
   },
   "outputs": [
    {
     "data": {
      "text/plain": [
       "True"
      ]
     },
     "execution_count": 12,
     "metadata": {},
     "output_type": "execute_result"
    }
   ],
   "source": [
    "client.create_collection(\n",
    "    collection_name='hello_world_collection',\n",
    "    vectors_config=models.VectorParams(size=4, distance=models.Distance.COSINE))"
   ]
  },
  {
   "cell_type": "code",
   "execution_count": null,
   "id": "bc8b8483-8d6f-4bba-b6f4-f26d07234829",
   "metadata": {
    "tags": []
   },
   "outputs": [],
   "source": [
    "models.VectorParams"
   ]
  },
  {
   "cell_type": "code",
   "execution_count": 5,
   "id": "1f88648c-e09f-46b8-ab5e-0b263e79cb65",
   "metadata": {
    "tags": []
   },
   "outputs": [
    {
     "data": {
      "text/plain": [
       "CollectionsResponse(collections=[CollectionDescription(name='hello_world_collection'), CollectionDescription(name='multi_vector_collection'), CollectionDescription(name='star_charts')])"
      ]
     },
     "execution_count": 5,
     "metadata": {},
     "output_type": "execute_result"
    }
   ],
   "source": [
    "client.get_collections()"
   ]
  },
  {
   "cell_type": "code",
   "execution_count": 4,
   "id": "006084d6-d7db-4b1c-bd1c-e792af0107a8",
   "metadata": {
    "tags": []
   },
   "outputs": [
    {
     "data": {
      "text/plain": [
       "True"
      ]
     },
     "execution_count": 4,
     "metadata": {},
     "output_type": "execute_result"
    }
   ],
   "source": [
    "client.create_collection(\n",
    "    collection_name='multi_vector_collection',\n",
    "    vectors_config = {\n",
    "        'vector_set_1': models.VectorParams(size=1024, distance=models.Distance.DOT),\n",
    "        'vector_set_2': models.VectorParams(size=2048, distance=models.Distance.COSINE)\n",
    "    },\n",
    ")"
   ]
  },
  {
   "cell_type": "code",
   "execution_count": 7,
   "id": "613b5a03-12ad-4675-adb2-765a457212b0",
   "metadata": {
    "tags": []
   },
   "outputs": [
    {
     "data": {
      "text/plain": [
       "True"
      ]
     },
     "execution_count": 7,
     "metadata": {},
     "output_type": "execute_result"
    }
   ],
   "source": [
    "client.create_collection(\n",
    "    collection_name='sparse_vector_collection',\n",
    "    sparse_vectors_config= {\n",
    "        'vector_set_sparse': models.SparseVectorParams(),\n",
    "    },\n",
    "    vectors_config = {}\n",
    ")"
   ]
  },
  {
   "cell_type": "code",
   "execution_count": 8,
   "id": "6ffcc101-7c11-4734-bdaa-f7f2be2b59e8",
   "metadata": {
    "tags": []
   },
   "outputs": [
    {
     "data": {
      "text/plain": [
       "CollectionsResponse(collections=[CollectionDescription(name='hello_world_collection'), CollectionDescription(name='sparse_vector_collection'), CollectionDescription(name='multi_vector_collection'), CollectionDescription(name='star_charts')])"
      ]
     },
     "execution_count": 8,
     "metadata": {},
     "output_type": "execute_result"
    }
   ],
   "source": [
    "client.get_collections()"
   ]
  },
  {
   "cell_type": "code",
   "execution_count": 9,
   "id": "39e991f5-c573-460c-b398-cf77672380cf",
   "metadata": {
    "tags": []
   },
   "outputs": [
    {
     "data": {
      "text/plain": [
       "True"
      ]
     },
     "execution_count": 9,
     "metadata": {},
     "output_type": "execute_result"
    }
   ],
   "source": [
    "client.delete_collection(collection_name='hello_world_collection')"
   ]
  },
  {
   "cell_type": "code",
   "execution_count": 13,
   "id": "d852a737-b63f-4d7b-b60d-4dbff588aece",
   "metadata": {
    "tags": []
   },
   "outputs": [
    {
     "data": {
      "text/plain": [
       "UpdateResult(operation_id=0, status=<UpdateStatus.COMPLETED: 'completed'>)"
      ]
     },
     "execution_count": 13,
     "metadata": {},
     "output_type": "execute_result"
    }
   ],
   "source": [
    "# simple point insert\n",
    "\n",
    "client.upsert(\n",
    "    collection_name='hello_world_collection',\n",
    "    points=[\n",
    "        models.PointStruct(\n",
    "            id=1,\n",
    "            payload={\n",
    "                'name': 'apple'\n",
    "            },\n",
    "            vector=[1.1, 0.1, -2.1, 0.05],\n",
    "        ),\n",
    "    ],\n",
    ")"
   ]
  },
  {
   "cell_type": "code",
   "execution_count": 15,
   "id": "7c2aa595-a602-44c3-8f9e-e4a206ad5699",
   "metadata": {
    "tags": []
   },
   "outputs": [
    {
     "data": {
      "text/plain": [
       "UpdateResult(operation_id=1, status=<UpdateStatus.COMPLETED: 'completed'>)"
      ]
     },
     "execution_count": 15,
     "metadata": {},
     "output_type": "execute_result"
    }
   ],
   "source": [
    "# Batch insert\n",
    "client.upsert(\n",
    "    collection_name='hello_world_collection',\n",
    "    points = models.Batch(\n",
    "        ids=[2,3],\n",
    "        payloads = [\n",
    "            {'name': 'orange'},\n",
    "            {'name': 'peach'},\n",
    "        ],\n",
    "        vectors = [\n",
    "            [3.24, 7.1, 2.8, 1.15],\n",
    "            [1.1, -0.2, -2.1, 3.21],\n",
    "        ],\n",
    "    ),\n",
    ")"
   ]
  },
  {
   "cell_type": "code",
   "execution_count": 16,
   "id": "7f49800c-2f56-423f-a5f5-0667b8b1a10e",
   "metadata": {
    "tags": []
   },
   "outputs": [
    {
     "data": {
      "text/plain": [
       "[Record(id=1, payload={'name': 'apple'}, vector=None, shard_key=None, order_value=None),\n",
       " Record(id=2, payload={'name': 'orange'}, vector=None, shard_key=None, order_value=None),\n",
       " Record(id=3, payload={'name': 'peach'}, vector=None, shard_key=None, order_value=None)]"
      ]
     },
     "execution_count": 16,
     "metadata": {},
     "output_type": "execute_result"
    }
   ],
   "source": [
    "client.retrieve(\n",
    "    collection_name='hello_world_collection',\n",
    "    ids=[1,2,3]\n",
    ")"
   ]
  },
  {
   "cell_type": "code",
   "execution_count": 17,
   "id": "4e2a1036-6c8f-4b17-87e6-8c15aa7ef044",
   "metadata": {
    "tags": []
   },
   "outputs": [
    {
     "data": {
      "text/plain": [
       "UpdateResult(operation_id=2, status=<UpdateStatus.COMPLETED: 'completed'>)"
      ]
     },
     "execution_count": 17,
     "metadata": {},
     "output_type": "execute_result"
    }
   ],
   "source": [
    "# Update the vectors\n",
    "\n",
    "client.update_vectors(\n",
    "    collection_name='hello_world_collection',\n",
    "    points=[\n",
    "        models.PointVectors(\n",
    "            id=2,\n",
    "            vector=[0.0,1.0, 0.0, 1.0]\n",
    "        )\n",
    "    ],\n",
    ")"
   ]
  },
  {
   "cell_type": "code",
   "execution_count": 22,
   "id": "7e59798a-e6f4-471d-aca9-7dc651a8febe",
   "metadata": {
    "tags": []
   },
   "outputs": [
    {
     "data": {
      "text/plain": [
       "[Record(id=2, payload={'name': 'orange'}, vector={}, shard_key=None, order_value=None)]"
      ]
     },
     "execution_count": 22,
     "metadata": {},
     "output_type": "execute_result"
    }
   ],
   "source": [
    "client.retrieve(\n",
    "    collection_name='hello_world_collection',\n",
    "    ids=[2],\n",
    "    with_payload=True,\n",
    "    with_vectors=True\n",
    ")"
   ]
  },
  {
   "cell_type": "code",
   "execution_count": null,
   "id": "477d732a-7a7e-4a8a-b116-1334b1c53d4f",
   "metadata": {},
   "outputs": [],
   "source": []
  },
  {
   "cell_type": "code",
   "execution_count": 21,
   "id": "7fba3232-f2c7-4ec9-be2e-721517a80689",
   "metadata": {
    "tags": []
   },
   "outputs": [
    {
     "data": {
      "text/plain": [
       "UpdateResult(operation_id=3, status=<UpdateStatus.COMPLETED: 'completed'>)"
      ]
     },
     "execution_count": 21,
     "metadata": {},
     "output_type": "execute_result"
    }
   ],
   "source": [
    "# delete the named vectors\n",
    "\n",
    "client.delete_vectors(\n",
    "    collection_name='hello_world_collection',\n",
    "    points=[2],\n",
    "    vectors=[''],)"
   ]
  },
  {
   "cell_type": "code",
   "execution_count": 23,
   "id": "eddae579-a35b-45b0-bdae-f4894bf285fe",
   "metadata": {
    "tags": []
   },
   "outputs": [
    {
     "data": {
      "text/plain": [
       "UpdateResult(operation_id=4, status=<UpdateStatus.COMPLETED: 'completed'>)"
      ]
     },
     "execution_count": 23,
     "metadata": {},
     "output_type": "execute_result"
    }
   ],
   "source": [
    "# Set Payload\n",
    "client.set_payload(\n",
    "    collection_name='hello_world_collection',\n",
    "    payload={\n",
    "        'property1': 'string',\n",
    "        'property2': 'string',\n",
    "    },\n",
    "    points=[1],\n",
    ")"
   ]
  },
  {
   "cell_type": "code",
   "execution_count": 24,
   "id": "c584a01c-749f-4c23-9234-5417725eefca",
   "metadata": {
    "tags": []
   },
   "outputs": [
    {
     "data": {
      "text/plain": [
       "[Record(id=1, payload={'name': 'apple', 'property1': 'string', 'property2': 'string'}, vector=[0.4634919, 0.042135626, -0.88484806, 0.021067813], shard_key=None, order_value=None)]"
      ]
     },
     "execution_count": 24,
     "metadata": {},
     "output_type": "execute_result"
    }
   ],
   "source": [
    "client.retrieve(\n",
    "    collection_name='hello_world_collection',\n",
    "    ids=[1],\n",
    "    with_payload=True,\n",
    "    with_vectors=True\n",
    ")"
   ]
  },
  {
   "cell_type": "code",
   "execution_count": 26,
   "id": "da271c50-7ca9-4370-aefd-e4554cbb2015",
   "metadata": {
    "tags": []
   },
   "outputs": [
    {
     "data": {
      "text/plain": [
       "UpdateResult(operation_id=5, status=<UpdateStatus.COMPLETED: 'completed'>)"
      ]
     },
     "execution_count": 26,
     "metadata": {},
     "output_type": "execute_result"
    }
   ],
   "source": [
    "# Overwrite payload\n",
    "\n",
    "client.overwrite_payload(\n",
    "    collection_name='hello_world_collection',\n",
    "    payload={\n",
    "        'property1':'newstring',\n",
    "        'property2':'newstring',\n",
    "    },\n",
    "    points=[2],\n",
    ")"
   ]
  },
  {
   "cell_type": "code",
   "execution_count": 27,
   "id": "c885c776-c90f-412f-97bc-c3e8510ae22d",
   "metadata": {
    "tags": []
   },
   "outputs": [
    {
     "data": {
      "text/plain": [
       "UpdateResult(operation_id=6, status=<UpdateStatus.COMPLETED: 'completed'>)"
      ]
     },
     "execution_count": 27,
     "metadata": {},
     "output_type": "execute_result"
    }
   ],
   "source": [
    "# Clear Payload\n",
    "\n",
    "client.clear_payload(\n",
    "    collection_name='hello_world_collection',\n",
    "    points_selector=models.PointIdsList(\n",
    "        points=[3],\n",
    "    ),\n",
    ")"
   ]
  },
  {
   "cell_type": "code",
   "execution_count": 28,
   "id": "9ef075b2-7c27-45b4-86e2-1c51835b7295",
   "metadata": {
    "tags": []
   },
   "outputs": [
    {
     "data": {
      "text/plain": [
       "[Record(id=3, payload={}, vector=[0.27530906, -0.05005619, -0.52558994, 0.8034018], shard_key=None, order_value=None)]"
      ]
     },
     "execution_count": 28,
     "metadata": {},
     "output_type": "execute_result"
    }
   ],
   "source": [
    "client.retrieve(\n",
    "    collection_name='hello_world_collection',\n",
    "    ids=[3],\n",
    "    with_payload=True,\n",
    "    with_vectors=True\n",
    ")"
   ]
  },
  {
   "cell_type": "code",
   "execution_count": 32,
   "id": "765aad95-775b-4e1f-8632-be902ac70cfb",
   "metadata": {
    "tags": []
   },
   "outputs": [
    {
     "data": {
      "text/plain": [
       "UpdateResult(operation_id=8, status=<UpdateStatus.COMPLETED: 'completed'>)"
      ]
     },
     "execution_count": 32,
     "metadata": {},
     "output_type": "execute_result"
    }
   ],
   "source": [
    "# Delete payload keys\n",
    "\n",
    "client.delete_payload(\n",
    "    collection_name='hello_world_collection',\n",
    "    keys=['property1', 'property2', 'name'],\n",
    "    points=[1,2],\n",
    ")"
   ]
  },
  {
   "cell_type": "code",
   "execution_count": 33,
   "id": "7edfba86-b8a5-4ee8-a77c-913d27bca330",
   "metadata": {
    "tags": []
   },
   "outputs": [
    {
     "data": {
      "text/plain": [
       "[Record(id=1, payload={}, vector=[0.4634919, 0.042135626, -0.88484806, 0.021067813], shard_key=None, order_value=None),\n",
       " Record(id=2, payload={}, vector={}, shard_key=None, order_value=None)]"
      ]
     },
     "execution_count": 33,
     "metadata": {},
     "output_type": "execute_result"
    }
   ],
   "source": [
    "client.retrieve(\n",
    "    collection_name='hello_world_collection',\n",
    "    ids=[1,2],\n",
    "    with_payload=True,\n",
    "    with_vectors=True\n",
    ")"
   ]
  },
  {
   "cell_type": "code",
   "execution_count": 34,
   "id": "31b3a5be-48ef-4ec2-84b1-6a2d00c918ac",
   "metadata": {
    "tags": []
   },
   "outputs": [
    {
     "data": {
      "text/plain": [
       "UpdateResult(operation_id=9, status=<UpdateStatus.COMPLETED: 'completed'>)"
      ]
     },
     "execution_count": 34,
     "metadata": {},
     "output_type": "execute_result"
    }
   ],
   "source": [
    "# Delete Points\n",
    "\n",
    "client.delete(\n",
    "    collection_name='hello_world_collection',\n",
    "    points_selector=models.PointIdsList(\n",
    "        points=[3],\n",
    "    ),\n",
    ")"
   ]
  },
  {
   "cell_type": "code",
   "execution_count": 35,
   "id": "604f302a-6450-48fc-a678-14dca197e6c5",
   "metadata": {
    "tags": []
   },
   "outputs": [
    {
     "data": {
      "text/plain": [
       "[]"
      ]
     },
     "execution_count": 35,
     "metadata": {},
     "output_type": "execute_result"
    }
   ],
   "source": [
    "client.retrieve(\n",
    "    collection_name='hello_world_collection',\n",
    "    ids=[3],\n",
    "    with_payload=True,\n",
    "    with_vectors=True\n",
    ")"
   ]
  },
  {
   "cell_type": "code",
   "execution_count": null,
   "id": "3fb5d12a-b351-4d05-b99d-a0cfb9107a4f",
   "metadata": {},
   "outputs": [],
   "source": []
  }
 ],
 "metadata": {
  "kernelspec": {
   "display_name": "Python 3 (ipykernel)",
   "language": "python",
   "name": "python3"
  },
  "language_info": {
   "codemirror_mode": {
    "name": "ipython",
    "version": 3
   },
   "file_extension": ".py",
   "mimetype": "text/x-python",
   "name": "python",
   "nbconvert_exporter": "python",
   "pygments_lexer": "ipython3",
   "version": "3.11.3"
  }
 },
 "nbformat": 4,
 "nbformat_minor": 5
}
