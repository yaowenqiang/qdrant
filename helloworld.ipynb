{
 "cells": [
  {
   "cell_type": "code",
   "execution_count": 1,
   "id": "e97e1858-740b-4325-ae72-770736b10c31",
   "metadata": {
    "tags": []
   },
   "outputs": [],
   "source": [
    "from qdrant_client import QdrantClient\n",
    "from qdrant_client.http import models"
   ]
  },
  {
   "cell_type": "code",
   "execution_count": null,
   "id": "d92f3f0c-3646-46f6-af5f-7a30e529078f",
   "metadata": {
    "tags": []
   },
   "outputs": [],
   "source": [
    "%pip install qdrant-client"
   ]
  },
  {
   "cell_type": "code",
   "execution_count": 3,
   "id": "66e9c928-42ce-44c9-8917-f580072ef58a",
   "metadata": {
    "tags": []
   },
   "outputs": [],
   "source": [
    "client = QdrantClient('localhost', port=6333)"
   ]
  },
  {
   "cell_type": "code",
   "execution_count": 5,
   "id": "48338cc7-f702-4c10-851c-825c41088cdb",
   "metadata": {
    "tags": []
   },
   "outputs": [
    {
     "ename": "AttributeError",
     "evalue": "module 'qdrant_client.http.models.models' has no attribute 'VectorPrograms'",
     "output_type": "error",
     "traceback": [
      "\u001b[0;31m---------------------------------------------------------------------------\u001b[0m",
      "\u001b[0;31mAttributeError\u001b[0m                            Traceback (most recent call last)",
      "Cell \u001b[0;32mIn[5], line 3\u001b[0m\n\u001b[1;32m      1\u001b[0m client\u001b[38;5;241m.\u001b[39mcreate_collection(\n\u001b[1;32m      2\u001b[0m     collection_name\u001b[38;5;241m=\u001b[39m\u001b[38;5;124m'\u001b[39m\u001b[38;5;124mhello_world_collection\u001b[39m\u001b[38;5;124m'\u001b[39m,\n\u001b[0;32m----> 3\u001b[0m     vectors_config\u001b[38;5;241m=\u001b[39mmodels\u001b[38;5;241m.\u001b[39mVectorPrograms(size\u001b[38;5;241m=\u001b[39m\u001b[38;5;241m4\u001b[39m, distance\u001b[38;5;241m=\u001b[39mmodels\u001b[38;5;241m.\u001b[39mDistance\u001b[38;5;241m.\u001b[39mCOSINE))\n",
      "\u001b[0;31mAttributeError\u001b[0m: module 'qdrant_client.http.models.models' has no attribute 'VectorPrograms'"
     ]
    }
   ],
   "source": [
    "client.create_collection(\n",
    "    collection_name='hello_world_collection',\n",
    "    vectors_config=models.VectorPrograms(size=4, distance=models.Distance.COSINE))"
   ]
  },
  {
   "cell_type": "code",
   "execution_count": null,
   "id": "bc8b8483-8d6f-4bba-b6f4-f26d07234829",
   "metadata": {},
   "outputs": [],
   "source": []
  }
 ],
 "metadata": {
  "kernelspec": {
   "display_name": "Python 3 (ipykernel)",
   "language": "python",
   "name": "python3"
  },
  "language_info": {
   "codemirror_mode": {
    "name": "ipython",
    "version": 3
   },
   "file_extension": ".py",
   "mimetype": "text/x-python",
   "name": "python",
   "nbconvert_exporter": "python",
   "pygments_lexer": "ipython3",
   "version": "3.11.3"
  }
 },
 "nbformat": 4,
 "nbformat_minor": 5
}
